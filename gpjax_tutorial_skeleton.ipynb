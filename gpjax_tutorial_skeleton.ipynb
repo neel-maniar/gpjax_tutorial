{
 "cells": [
  {
   "cell_type": "code",
   "execution_count": 1,
   "metadata": {},
   "outputs": [
    {
     "name": "stderr",
     "output_type": "stream",
     "text": [
      "c:\\Users\\neelm\\miniconda3\\envs\\gp\\lib\\site-packages\\tqdm\\auto.py:21: TqdmWarning: IProgress not found. Please update jupyter and ipywidgets. See https://ipywidgets.readthedocs.io/en/stable/user_install.html\n",
      "  from .autonotebook import tqdm as notebook_tqdm\n"
     ]
    }
   ],
   "source": [
    "# Imports\n",
    "from jax import config\n",
    "\n",
    "config.update(\"jax_enable_x64\", True)\n",
    "\n",
    "import jax.numpy as jnp\n",
    "import jax.random as jr\n",
    "import gpjax as gpx\n",
    "from gpjax.typing import Array, Float\n",
    "\n",
    "from dataclasses import dataclass\n",
    "\n",
    "from jax import jacfwd, jacrev\n",
    "\n",
    "import tensorflow_probability as tfp"
   ]
  },
  {
   "cell_type": "markdown",
   "metadata": {},
   "source": [
    "Problem overview, reference to Linearly Constrained GPs paper"
   ]
  },
  {
   "cell_type": "markdown",
   "metadata": {},
   "source": [
    "# 2D div-free"
   ]
  },
  {
   "cell_type": "markdown",
   "metadata": {},
   "source": [
    "3rd dimension of 0 (x), 1 (y), 2 (0 div)"
   ]
  },
  {
   "cell_type": "markdown",
   "metadata": {},
   "source": [
    "## Data processing"
   ]
  },
  {
   "cell_type": "markdown",
   "metadata": {},
   "source": [
    "Example div-free function: insert math here"
   ]
  },
  {
   "cell_type": "code",
   "execution_count": 2,
   "metadata": {},
   "outputs": [],
   "source": [
    "def div_free_2d_example(x, y, a=0.01):\n",
    "    exp_term = jnp.exp(-a * x * y)\n",
    "    trig_term_x = a * x * jnp.sin(x * y) - x * jnp.cos(x * y)\n",
    "    trig_term_y = -a * y * jnp.sin(x * y) + y * jnp.cos(x * y)\n",
    "    return exp_term * trig_term_x, exp_term * trig_term_y"
   ]
  },
  {
   "cell_type": "markdown",
   "metadata": {},
   "source": [
    "plot of the above field"
   ]
  },
  {
   "cell_type": "markdown",
   "metadata": {},
   "source": [
    "## In-depth problem specification"
   ]
  },
  {
   "cell_type": "code",
   "execution_count": 3,
   "metadata": {},
   "outputs": [],
   "source": [
    "n_divisions = 20"
   ]
  },
  {
   "cell_type": "code",
   "execution_count": 4,
   "metadata": {},
   "outputs": [],
   "source": [
    "def label_position_2d(data):\n",
    "    # introduce alternating z label\n",
    "    n_points = len(data[0])\n",
    "    label = jnp.tile(jnp.array([0.0, 1.0]), n_points)\n",
    "    return jnp.vstack((jnp.repeat(data, repeats=2, axis=1), label)).T\n",
    "\n",
    "def stack_vector(data):\n",
    "    return data.T.flatten().reshape(-1, 1)\n",
    "\n",
    "def dataset_3d(pos, obs):\n",
    "    return gpx.Dataset(label_position_2d(pos), stack_vector(obs))"
   ]
  },
  {
   "cell_type": "code",
   "execution_count": 5,
   "metadata": {},
   "outputs": [],
   "source": [
    "positions = jnp.mgrid[0:4:n_divisions*1j, 0:4:n_divisions*1j].reshape(2, -1)\n",
    "\n",
    "observations = jnp.stack(\n",
    "    div_free_2d_example(positions[0], positions[1]), axis=0\n",
    ").reshape(2, -1)\n",
    "\n",
    "dataset = dataset_3d(positions, observations)"
   ]
  },
  {
   "cell_type": "code",
   "execution_count": 21,
   "metadata": {},
   "outputs": [],
   "source": [
    "default_key = jr.PRNGKey(0)\n",
    "\n",
    "def train_test_split(positions, observations, n_train, n_split, key=default_key):\n",
    "    permutation = jr.permutation(key, jnp.arange(positions.shape[1]))\n",
    "    train_indices = permutation[:n_train]\n",
    "    test_indices = permutation[n_train:n_train+n_split]  # fmt: skip\n",
    "\n",
    "    n_dims = positions.shape[0]\n",
    "\n",
    "    match n_dims:\n",
    "        case 2:\n",
    "            dataset_train = dataset_3d(\n",
    "                positions[:, train_indices], observations[:, train_indices]\n",
    "            )\n",
    "            dataset_test = dataset_3d(\n",
    "                positions[:, test_indices], observations[:, test_indices]\n",
    "            )\n",
    "        case 3:\n",
    "            # CR TODO: implement me\n",
    "            assert False\n",
    "        case _:\n",
    "            raise ValueError(f\"Invalid number of dimensions: {n_dims}\")\n",
    "\n",
    "    return dataset_train, dataset_test, positions[:, test_indices]\n"
   ]
  },
  {
   "cell_type": "markdown",
   "metadata": {},
   "source": [
    "### Diagonal kernel"
   ]
  },
  {
   "cell_type": "code",
   "execution_count": 17,
   "metadata": {},
   "outputs": [],
   "source": [
    "@dataclass\n",
    "class VectorKernel_2d(gpx.kernels.AbstractKernel):\n",
    "\n",
    "    # CR TODO: should this allow specification of lengthscale and variance?\n",
    "    kernel: gpx.kernels.AbstractKernel = gpx.kernels.RBF(active_dims=[0, 1])\n",
    "\n",
    "    def __call__(\n",
    "        self, X: Float[Array, \"1 D\"], Xp: Float[Array, \"1 D\"]\n",
    "    ) -> Float[Array, \"1\"]:\n",
    "        # standard RBF-SE kernel if x and x' are on the same output, otherwise returns 0\n",
    "\n",
    "        w = jnp.array(X[2], dtype=int)\n",
    "        wp = jnp.array(Xp[2], dtype=int)\n",
    "\n",
    "        # drop output label to reduce resource usage\n",
    "        X = X[:2]\n",
    "        Xp = Xp[:2]\n",
    "\n",
    "        K = (w == wp) * self.kernel(X, Xp)\n",
    "\n",
    "        return K\n"
   ]
  },
  {
   "cell_type": "markdown",
   "metadata": {},
   "source": [
    "## GPJax implementation"
   ]
  },
  {
   "cell_type": "code",
   "execution_count": 18,
   "metadata": {},
   "outputs": [],
   "source": [
    "def initialise_gp(kernel, mean, dataset):\n",
    "    prior = gpx.gps.Prior(mean_function=mean, kernel=kernel)\n",
    "    likelihood = gpx.likelihoods.Gaussian(\n",
    "        num_datapoints=dataset.n, obs_stddev=jnp.array([1.0e-3], dtype=jnp.float64)\n",
    "    )\n",
    "    posterior = prior * likelihood\n",
    "    return posterior"
   ]
  },
  {
   "cell_type": "code",
   "execution_count": 22,
   "metadata": {},
   "outputs": [],
   "source": [
    "simulation_key = jr.PRNGKey(0)\n",
    "\n",
    "training_data, _, _ = train_test_split(\n",
    "    positions, observations, 50, 1, key=simulation_key\n",
    ")\n",
    "\n",
    "\n",
    "mean = gpx.mean_functions.Zero()\n",
    "kernel = VectorKernel_2d()\n",
    "diagonal_posterior = initialise_gp(kernel, mean, training_data)\n"
   ]
  },
  {
   "cell_type": "code",
   "execution_count": 25,
   "metadata": {},
   "outputs": [],
   "source": [
    "def optimise_mll(posterior, dataset, NIters=1000):\n",
    "    # define the MLL using dataset_train\n",
    "    objective = gpx.objectives.ConjugateMLL(negative=True)\n",
    "    # Optimise to minimise the MLL\n",
    "    opt_posterior, _ = gpx.fit_scipy(\n",
    "        model=posterior,\n",
    "        objective=objective,\n",
    "        train_data=dataset,\n",
    "        max_iters=NIters,\n",
    "    )\n",
    "    return opt_posterior"
   ]
  },
  {
   "cell_type": "code",
   "execution_count": 26,
   "metadata": {},
   "outputs": [
    {
     "name": "stderr",
     "output_type": "stream",
     "text": [
      "/home/mb755/.local/lib/python3.10/site-packages/cola/backends/backends.py:75: UserWarning: torch.utils._pytree._register_pytree_node is deprecated. Please use torch.utils._pytree.register_pytree_node instead.\n",
      "  torch.utils._pytree._register_pytree_node(cls, tree_flatten, tree_unflatten)\n"
     ]
    },
    {
     "name": "stdout",
     "output_type": "stream",
     "text": [
      "Initial loss is 42021.82397017794\n",
      "Optimization was successful\n",
      "Final loss is 138.90764227379722 after 17 iterations\n"
     ]
    }
   ],
   "source": [
    "opt_diagonal_posterior = optimise_mll(diagonal_posterior, training_data)"
   ]
  },
  {
   "cell_type": "markdown",
   "metadata": {},
   "source": [
    "## Comparison"
   ]
  },
  {
   "cell_type": "markdown",
   "metadata": {},
   "source": [
    "Field + residuals plot"
   ]
  },
  {
   "cell_type": "code",
   "execution_count": 27,
   "metadata": {},
   "outputs": [],
   "source": [
    "def rmse(predictions, truth):\n",
    "    # in the paper they compute RMS per vectror component\n",
    "    return jnp.sqrt(jnp.sum((predictions - truth) ** 2) / truth.shape[0])"
   ]
  },
  {
   "cell_type": "code",
   "execution_count": 28,
   "metadata": {},
   "outputs": [],
   "source": [
    "def latent_distribution(opt_posterior, prediction_locations, dataset_train):\n",
    "    latent = opt_posterior.predict(prediction_locations, train_data=dataset_train)\n",
    "    latent_mean = latent.mean()\n",
    "    latent_std = latent.stddev()\n",
    "    return latent_mean, latent_std"
   ]
  },
  {
   "cell_type": "code",
   "execution_count": 31,
   "metadata": {},
   "outputs": [],
   "source": [
    "diagonal_mean, diagonal_std = latent_distribution(\n",
    "    opt_diagonal_posterior, dataset.X, training_data\n",
    ")"
   ]
  },
  {
   "cell_type": "code",
   "execution_count": 32,
   "metadata": {},
   "outputs": [],
   "source": [
    "dataset_latent_diagonal = dataset_3d(positions, diagonal_mean)"
   ]
  },
  {
   "cell_type": "code",
   "execution_count": 35,
   "metadata": {},
   "outputs": [
    {
     "data": {
      "text/plain": [
       "Array(0.89089591, dtype=float64)"
      ]
     },
     "execution_count": 35,
     "metadata": {},
     "output_type": "execute_result"
    }
   ],
   "source": [
    "rmse(dataset_latent_diagonal.y, dataset.y)"
   ]
  },
  {
   "cell_type": "markdown",
   "metadata": {},
   "source": [
    "## Divergence free kernel"
   ]
  },
  {
   "cell_type": "markdown",
   "metadata": {},
   "source": [
    "Short derivation of the div-free kernel"
   ]
  },
  {
   "cell_type": "code",
   "execution_count": 37,
   "metadata": {},
   "outputs": [],
   "source": [
    "def small_hessian(\n",
    "    kernel, X: Float[Array, \"1 D\"], Xp: Float[Array, \"1 D\"]\n",
    ") -> Float[Array, \"1\"]:\n",
    "    # compute all relevant second derivatives at once\n",
    "    # eg small_hessian(k)[0][1] is d2k/dx1dy2\n",
    "    return jnp.array(\n",
    "        jacfwd(jacrev(kernel, argnums=0), argnums=1)(X, Xp), dtype=jnp.float64\n",
    "    )\n",
    "\n",
    "@dataclass\n",
    "class DivFreeKernel(gpx.kernels.AbstractKernel):\n",
    "    kernel: gpx.kernels.AbstractKernel = gpx.kernels.RBF(active_dims=[0, 1])\n",
    "\n",
    "    def __call__(\n",
    "        self, X: Float[Array, \"1 D\"], Xp: Float[Array, \"1 D\"]\n",
    "    ) -> Float[Array, \"1\"]:\n",
    "        # the third dimension switches between 00, 01 and 11 kernels\n",
    "\n",
    "        z = jnp.array(X[2], dtype=int)\n",
    "        zp = jnp.array(Xp[2], dtype=int)\n",
    "\n",
    "        # achieve the correct value via 'switches' that are either 1 or 0\n",
    "        k00_switch = ((z + 1) % 2) * ((zp + 1) % 2)\n",
    "        k01_switch = ((z + 1) % 2) * zp\n",
    "        k10_switch = z * ((zp + 1) % 2)\n",
    "        k11_switch = z * zp\n",
    "\n",
    "        # drop output label to reduce resource usage\n",
    "        X = jnp.array(X[0:2])\n",
    "        Xp = jnp.array(Xp[0:2])\n",
    "\n",
    "        hess = small_hessian(self.kernel, X, Xp)\n",
    "\n",
    "        K = (\n",
    "            k00_switch * hess[1][1]\n",
    "            - k01_switch * hess[1][0]\n",
    "            - k10_switch * hess[0][1]\n",
    "            + k11_switch * hess[0][0]\n",
    "        )\n",
    "\n",
    "        return K\n"
   ]
  },
  {
   "cell_type": "code",
   "execution_count": 38,
   "metadata": {},
   "outputs": [],
   "source": [
    "kernel = DivFreeKernel()\n",
    "div_free_posterior = initialise_gp(kernel, mean, training_data)"
   ]
  },
  {
   "cell_type": "code",
   "execution_count": 39,
   "metadata": {},
   "outputs": [
    {
     "name": "stdout",
     "output_type": "stream",
     "text": [
      "Initial loss is 12187.049155670646\n",
      "Optimization was successful\n",
      "Final loss is 65.0245418085733 after 31 iterations\n"
     ]
    }
   ],
   "source": [
    "opt_div_free_posterior = optimise_mll(div_free_posterior, training_data)"
   ]
  },
  {
   "cell_type": "code",
   "execution_count": 40,
   "metadata": {},
   "outputs": [],
   "source": [
    "div_free_mean, div_free_std = latent_distribution(\n",
    "    opt_div_free_posterior, dataset.X, training_data\n",
    ")"
   ]
  },
  {
   "cell_type": "code",
   "execution_count": 41,
   "metadata": {},
   "outputs": [],
   "source": [
    "dataset_latent_div_free = dataset_3d(positions, div_free_mean)"
   ]
  },
  {
   "cell_type": "code",
   "execution_count": 42,
   "metadata": {},
   "outputs": [
    {
     "data": {
      "text/plain": [
       "Array(0.47258673, dtype=float64)"
      ]
     },
     "execution_count": 42,
     "metadata": {},
     "output_type": "execute_result"
    }
   ],
   "source": [
    "rmse(dataset_latent_div_free.y, dataset.y)"
   ]
  },
  {
   "cell_type": "code",
   "execution_count": 45,
   "metadata": {},
   "outputs": [
    {
     "name": "stdout",
     "output_type": "stream",
     "text": [
      "NLPD for diagonal: 2.17E+08 \n",
      "NLPD for div free: 1.10E+07\n"
     ]
    }
   ],
   "source": [
    "# ensure testing data alternates between x0 and x1 components\n",
    "def nlpd(mean, std, test_positions):\n",
    "    test_grid = jnp.column_stack((test_positions[0], test_positions[1])).flatten()\n",
    "    normal = tfp.substrates.jax.distributions.Normal(loc=mean, scale=std)\n",
    "    return -jnp.sum(normal.log_prob(test_grid))\n",
    "\n",
    "\n",
    "# compute nlpd for velocity and helmholtz\n",
    "nlpd_diagonal = nlpd(diagonal_mean, diagonal_std, positions)\n",
    "nlpd_div_free = nlpd(div_free_mean, div_free_std, positions)\n",
    "\n",
    "print(f\"NLPD for diagonal: {nlpd_diagonal:.2E} \\nNLPD for div free: {nlpd_div_free:.2E}\")\n"
   ]
  }
 ],
 "metadata": {
  "kernelspec": {
   "display_name": "project",
   "language": "python",
   "name": "python3"
  },
  "language_info": {
   "codemirror_mode": {
    "name": "ipython",
    "version": 3
   },
   "file_extension": ".py",
   "mimetype": "text/x-python",
   "name": "python",
   "nbconvert_exporter": "python",
   "pygments_lexer": "ipython3",
   "version": "3.10.14"
  }
 },
 "nbformat": 4,
 "nbformat_minor": 2
}
